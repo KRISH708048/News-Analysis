{
 "cells": [
  {
   "cell_type": "code",
   "execution_count": 1,
   "id": "715774cf-2728-493c-9849-10d4c71ccf55",
   "metadata": {},
   "outputs": [],
   "source": [
    "import pandas as pd\n",
    "\n",
    "def process_single_site(site):\n",
    "    modified_site = site.replace('www.', '').replace('.in', '').replace('.com', '')\n",
    "    file_path = site[4:] + '.csv'\n",
    "    print('Opening file {0}'.format(file_path))\n",
    "    df = pd.read_csv(file_path)\n",
    "\n",
    "    new_row_values = df.columns.values\n",
    "    new_row_df = pd.DataFrame([new_row_values], columns=df.columns)\n",
    "    df = df.append(new_row_df, ignore_index=True)\n",
    "\n",
    "    column_names = ['index', 'title', 'description', 'date', 'url', 'source-url', 'source-name']  # Replace with your desired column names\n",
    "    df.columns = column_names\n",
    "\n",
    "    column_name = 'title'  # Replace with the actual column name\n",
    "    # Step 3: Remove rows with the same value in the specified column\n",
    "    df = df.drop_duplicates(subset=column_name, keep='first')\n",
    "\n",
    "    # Step 2: Specify the column containing mixed Hindi and English strings\n",
    "    column_name = 'source-url'  # Replace with the actual column name\n",
    "    # Step 3: Define a regular expression pattern to match Hindi characters\n",
    "    hindi_pattern = r'[\\u0900-\\u097F]'\n",
    "    req_url = 'https://' + site\n",
    "    # Step 4: Use str.contains to filter out rows with Hindi characters in the specified column\n",
    "    # df = df[~df[column_name].str.contains(hindi_pattern, regex=True, na=False)]\n",
    "    df = df[(df[column_name] == req_url) | (df[column_name] == site) | (df[column_name] == 'https://' + site[4:])]\n",
    "\n",
    "    df['date'] = pd.to_datetime(df['date'], format='%a, %d %b %Y %H:%M:%S GMT')\n",
    "    # Now you can sort the DataFrame by the 'date_column'\n",
    "    df = df.sort_values(by='date')\n",
    "\n",
    "    df_filtered = df[df['date'].dt.year == 2024]\n",
    "    final_file_path = modified_site + '_final.csv'\n",
    "    print(df)\n",
    "    df_filtered.to_csv(final_file_path, sep=',', encoding='utf-8')"
   ]
  },
  {
   "cell_type": "code",
   "execution_count": null,
   "id": "1b97444e-e471-4d39-8975-62a45ec2b556",
   "metadata": {},
   "outputs": [],
   "source": [
    "sites = ['www.newslaundry.com', 'www.theprint.in', 'www.opindia.com', 'www.republicworld.com', 'www.indianexpress.com']\n",
    "for site in sites:\n",
    "    process_single_site(site)"
   ]
  },
  {
   "cell_type": "code",
   "execution_count": null,
   "id": "38cb3302-8761-4d4b-8729-3d583a661885",
   "metadata": {},
   "outputs": [],
   "source": []
  }
 ],
 "metadata": {
  "kernelspec": {
   "display_name": "Python 3 (ipykernel)",
   "language": "python",
   "name": "python3"
  },
  "language_info": {
   "codemirror_mode": {
    "name": "ipython",
    "version": 3
   },
   "file_extension": ".py",
   "mimetype": "text/x-python",
   "name": "python",
   "nbconvert_exporter": "python",
   "pygments_lexer": "ipython3",
   "version": "3.10.12"
  }
 },
 "nbformat": 4,
 "nbformat_minor": 5
}
